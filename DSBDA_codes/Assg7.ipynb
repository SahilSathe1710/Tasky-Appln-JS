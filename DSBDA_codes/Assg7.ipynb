{
 "cells": [
  {
   "cell_type": "code",
   "execution_count": 1,
   "id": "c4f8a9c6",
   "metadata": {},
   "outputs": [
    {
     "name": "stderr",
     "output_type": "stream",
     "text": [
      "[nltk_data] Downloading package punkt to\n",
      "[nltk_data]     C:\\Users\\HP\\AppData\\Roaming\\nltk_data...\n",
      "[nltk_data]   Unzipping tokenizers\\punkt.zip.\n",
      "[nltk_data] Downloading package stopwords to\n",
      "[nltk_data]     C:\\Users\\HP\\AppData\\Roaming\\nltk_data...\n",
      "[nltk_data]   Unzipping corpora\\stopwords.zip.\n",
      "[nltk_data] Downloading package wordnet to\n",
      "[nltk_data]     C:\\Users\\HP\\AppData\\Roaming\\nltk_data...\n",
      "[nltk_data] Downloading package omw-1.4 to\n",
      "[nltk_data]     C:\\Users\\HP\\AppData\\Roaming\\nltk_data...\n",
      "[nltk_data] Downloading package averaged_perceptron_tagger to\n",
      "[nltk_data]     C:\\Users\\HP\\AppData\\Roaming\\nltk_data...\n",
      "[nltk_data]   Unzipping taggers\\averaged_perceptron_tagger.zip.\n"
     ]
    },
    {
     "data": {
      "text/plain": [
       "True"
      ]
     },
     "execution_count": 1,
     "metadata": {},
     "output_type": "execute_result"
    }
   ],
   "source": [
    "import pandas as pd\n",
    "import nltk\n",
    "nltk.download('punkt')\n",
    "nltk.download('stopwords')\n",
    "nltk.download('wordnet')\n",
    "nltk.download('omw-1.4')\n",
    "nltk.download('averaged_perceptron_tagger')"
   ]
  },
  {
   "cell_type": "code",
   "execution_count": 2,
   "id": "91b8452f",
   "metadata": {},
   "outputs": [
    {
     "name": "stdout",
     "output_type": "stream",
     "text": [
      "['Hello Everyone!', '!, Glad to see you here!']\n"
     ]
    }
   ],
   "source": [
    "from nltk.tokenize import sent_tokenize\n",
    "text = \"Hello Everyone!!, Glad to see you here!\"\n",
    "tokenize_sent = sent_tokenize(text)\n",
    "print(tokenize_sent)"
   ]
  },
  {
   "cell_type": "code",
   "execution_count": 3,
   "id": "85f18646",
   "metadata": {},
   "outputs": [
    {
     "name": "stdout",
     "output_type": "stream",
     "text": [
      "['Hello', 'Everyone', '!', '!', ',', 'Glad', 'to', 'see', 'you', 'here', '!']\n"
     ]
    }
   ],
   "source": [
    "from nltk.tokenize import word_tokenize\n",
    "tokenize_word = word_tokenize(text)\n",
    "print(tokenize_word)"
   ]
  },
  {
   "cell_type": "code",
   "execution_count": 4,
   "id": "e2559a9c",
   "metadata": {},
   "outputs": [
    {
     "name": "stdout",
     "output_type": "stream",
     "text": [
      "{'during', 'with', \"hadn't\", 'himself', 'itself', 'we', 'do', 'up', 'after', 've', \"that'll\", 'are', 'won', 'below', 'down', \"couldn't\", 'those', \"didn't\", 'mightn', 'very', 'too', \"you'd\", 'only', \"isn't\", 'he', 'from', 'above', 'not', 'theirs', 'shan', 'nor', 'more', 'will', 'ain', 'under', 'hadn', 'aren', 'further', 'didn', \"mightn't\", 'off', 'of', 'into', 'don', 'hasn', 'did', 'is', 'while', 'once', 'whom', 'how', 'myself', 'all', 'such', 'has', 'wouldn', 'against', 'our', 'as', 'if', 'needn', 'll', 'having', 'she', 'wasn', 't', 'them', 'hers', 'the', 'same', \"aren't\", 'each', 'by', 'just', 'now', 'that', 'does', 'before', 'haven', 'and', \"you're\", 'where', 'a', 'him', \"don't\", \"weren't\", 'so', 'can', 'own', 'most', 'o', 'they', 'which', 're', 'weren', 'both', 'about', 'out', 'any', \"hasn't\", 'me', 'ourselves', \"you'll\", 'this', 'again', 'then', 'his', 'yours', 'no', 'doing', 'there', 'for', \"wouldn't\", \"wasn't\", 'my', 'had', 'through', 'why', 'her', 'to', 'other', 'should', 'its', 'an', \"shan't\", 'who', 'm', 'you', 'their', 'yourself', 's', 'yourselves', \"shouldn't\", \"won't\", \"it's\", 'd', 'on', 'or', 'was', 'at', 'here', 'i', 'because', 'few', 'be', 'herself', 'but', 'what', \"doesn't\", 'isn', 'mustn', 'your', \"she's\", 'doesn', 'until', \"should've\", 'these', 'in', 'y', 'ours', \"mustn't\", 'shouldn', \"you've\", 'over', \"haven't\", 'couldn', 'between', 'am', 'than', 'it', 'themselves', 'were', 'have', 'some', 'ma', 'being', 'when', \"needn't\", 'been'}\n"
     ]
    }
   ],
   "source": [
    "from nltk.corpus import stopwords\n",
    "stop_words = set(stopwords.words('english'))\n",
    "print(stop_words)"
   ]
  },
  {
   "cell_type": "code",
   "execution_count": 5,
   "id": "140b5828",
   "metadata": {},
   "outputs": [
    {
     "name": "stdout",
     "output_type": "stream",
     "text": [
      "tokenized sentence: ['Hello', 'Everyone', '!', '!', ',', 'Glad', 'to', 'see', 'you', 'here', '!']\n",
      "filtered sentence: ['Hello', 'Everyone', '!', '!', ',', 'Glad', 'see', '!']\n"
     ]
    }
   ],
   "source": [
    "filtered_sent = []\n",
    "for w in tokenize_word:\n",
    "    if w not in stop_words:\n",
    "       filtered_sent.append(w)\n",
    "print(\"tokenized sentence:\", tokenize_word)\n",
    "print(\"filtered sentence:\", filtered_sent)"
   ]
  },
  {
   "cell_type": "code",
   "execution_count": 6,
   "id": "bf3914ec",
   "metadata": {},
   "outputs": [
    {
     "name": "stdout",
     "output_type": "stream",
     "text": [
      "filtered sentence: ['Hello', 'Everyone', '!', '!', ',', 'Glad', 'see', '!']\n",
      "stemmed sentence: ['hello', 'everyon', '!', '!', ',', 'glad', 'see', '!']\n"
     ]
    }
   ],
   "source": [
    "from nltk.stem import PorterStemmer\n",
    "ps = PorterStemmer()\n",
    "stemmed_word = []\n",
    "for w in filtered_sent:\n",
    "    a = ps.stem(w)\n",
    "    stemmed_word.append(a)\n",
    "print(\"filtered sentence:\", filtered_sent)\n",
    "print(\"stemmed sentence:\", stemmed_word)"
   ]
  },
  {
   "cell_type": "code",
   "execution_count": 7,
   "id": "b2b3e12b",
   "metadata": {},
   "outputs": [
    {
     "name": "stdout",
     "output_type": "stream",
     "text": [
      "stemmed sentence: ['hello', 'everyon', '!', '!', ',', 'glad', 'see', '!']\n",
      "lemmatized sentence: ['hello', 'everyon', '!', '!', ',', 'glad', 'see', '!']\n"
     ]
    }
   ],
   "source": [
    "from nltk.stem.wordnet import WordNetLemmatizer\n",
    "lem = WordNetLemmatizer()\n",
    "lem_words = []\n",
    "for w in stemmed_word:\n",
    "    b = lem.lemmatize(w)\n",
    "    lem_words.append(b)\n",
    "print(\"stemmed sentence:\", stemmed_word)\n",
    "print(\"lemmatized sentence:\", lem_words)"
   ]
  },
  {
   "cell_type": "code",
   "execution_count": 8,
   "id": "90f12c45",
   "metadata": {},
   "outputs": [
    {
     "name": "stdout",
     "output_type": "stream",
     "text": [
      "[('hello', 'NN'), ('everyon', 'NN'), ('!', '.'), ('!', '.'), (',', ','), ('glad', 'JJ'), ('see', 'NN'), ('!', '.')]\n"
     ]
    }
   ],
   "source": [
    "from nltk import pos_tag\n",
    "print(nltk.pos_tag(lem_words))"
   ]
  },
  {
   "cell_type": "code",
   "execution_count": 10,
   "id": "51192348",
   "metadata": {},
   "outputs": [
    {
     "data": {
      "text/plain": [
       "<Axes: xlabel='Count'>"
      ]
     },
     "execution_count": 10,
     "metadata": {},
     "output_type": "execute_result"
    },
    {
     "data": {
      "image/png": "[encoded data removed]",
      "text/plain": [
       "<Figure size 640x480 with 1 Axes>"
      ]
     },
     "metadata": {},
     "output_type": "display_data"
    }
   ],
   "source": [
    "import seaborn as sns\n",
    "sns.histplot(y = tokenize_word, kde = True)"
   ]
  },
  {
   "cell_type": "code",
   "execution_count": null,
   "id": "e37cdc8e",
   "metadata": {},
   "outputs": [],
   "source": []
  }
 ],
 "metadata": {
  "kernelspec": {
   "display_name": "Python 3 (ipykernel)",
   "language": "python",
   "name": "python3"
  },
  "language_info": {
   "codemirror_mode": {
    "name": "ipython",
    "version": 3
   },
   "file_extension": ".py",
   "mimetype": "text/x-python",
   "name": "python",
   "nbconvert_exporter": "python",
   "pygments_lexer": "ipython3",
   "version": "3.10.9"
  }
 },
 "nbformat": 4,
 "nbformat_minor": 5
}
